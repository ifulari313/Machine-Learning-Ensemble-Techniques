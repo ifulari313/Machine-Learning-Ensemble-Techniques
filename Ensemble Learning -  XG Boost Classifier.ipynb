{
 "cells": [
  {
   "cell_type": "code",
   "execution_count": 12,
   "id": "0b1312f2",
   "metadata": {},
   "outputs": [],
   "source": [
    "from numpy import loadtxt\n",
    "from xgboost import XGBClassifier\n",
    "from sklearn.model_selection import train_test_split\n",
    "from sklearn.metrics import accuracy_score\n",
    "import warnings \n",
    "warnings.filterwarnings('ignore')"
   ]
  },
  {
   "cell_type": "code",
   "execution_count": 2,
   "id": "b53600c0",
   "metadata": {},
   "outputs": [],
   "source": [
    "#pip install xgboost"
   ]
  },
  {
   "cell_type": "code",
   "execution_count": 3,
   "id": "b964ba29",
   "metadata": {},
   "outputs": [],
   "source": [
    "# Import Models\n",
    "from sklearn.linear_model import LogisticRegression\n",
    "from sklearn.neighbors import KNeighborsClassifier\n",
    "from sklearn.svm import SVC"
   ]
  },
  {
   "cell_type": "code",
   "execution_count": 4,
   "id": "1f188a2d",
   "metadata": {},
   "outputs": [],
   "source": [
    "data = loadtxt(\"C:\\\\Users\\\\dell\\\\Downloads\\\\pima-indians-diabetes.csv\", delimiter=\",\")"
   ]
  },
  {
   "cell_type": "code",
   "execution_count": 5,
   "id": "984b4b67",
   "metadata": {},
   "outputs": [],
   "source": [
    "X = data[:,0:8]\n",
    "y = data[:,8]"
   ]
  },
  {
   "cell_type": "code",
   "execution_count": 6,
   "id": "d4125cc8",
   "metadata": {},
   "outputs": [
    {
     "data": {
      "text/plain": [
       "(768, 9)"
      ]
     },
     "execution_count": 6,
     "metadata": {},
     "output_type": "execute_result"
    }
   ],
   "source": [
    "import pandas as pd\n",
    "pd.DataFrame(data).shape"
   ]
  },
  {
   "cell_type": "code",
   "execution_count": 7,
   "id": "1fa319bf",
   "metadata": {},
   "outputs": [],
   "source": [
    "# Split Data\n",
    "seed = 1\n",
    "X_train,X_test, y_train, y_test = train_test_split(X,y, test_size=0.2, random_state=seed)"
   ]
  },
  {
   "cell_type": "code",
   "execution_count": 8,
   "id": "7b5533bc",
   "metadata": {},
   "outputs": [],
   "source": [
    "# Running various models"
   ]
  },
  {
   "cell_type": "code",
   "execution_count": 28,
   "id": "63e1298d",
   "metadata": {
    "scrolled": true
   },
   "outputs": [
    {
     "name": "stdout",
     "output_type": "stream",
     "text": [
      "Accuracy : 77.92% LogisticRegression\n",
      "--- 0.05588722229003906 seconds ---\n",
      "Accuracy : 73.38% KNN\n",
      "--- 0.01691746711730957 seconds ---\n",
      "Accuracy : 78.57% SVM\n",
      "--- 0.03789854049682617 seconds ---\n",
      "Accuracy : 78.57% XGB\n",
      "--- 0.2762613296508789 seconds ---\n"
     ]
    }
   ],
   "source": [
    "models=[]\n",
    "models.append(('LogisticRegression', LogisticRegression()))\n",
    "models.append(('KNN',KNeighborsClassifier()))\n",
    "models.append(('SVM',SVC()))\n",
    "models.append(('XGB', XGBClassifier(eta=0.05, gamma = 10)))  # eta=0.01 and gamma = 10,  default gamma = 0\n",
    " \n",
    "\n",
    "import time\n",
    "# evaluate each model in turn\n",
    "\n",
    "results = []\n",
    "names = []\n",
    "scoring = 'accuracy'\n",
    "\n",
    "for name, model in models:\n",
    "    start_time = time.time()\n",
    "    model.fit(X_train,y_train)\n",
    "    \n",
    "    y_pred = model.predict(X_test)\n",
    "    predictions = [round(value) for value in y_pred]\n",
    "    \n",
    "    #evaluate predictions\n",
    "    \n",
    "    accuracy = accuracy_score(y_test, predictions)\n",
    "    print(\"Accuracy : %.2f%%\" % (accuracy*100.0),name)\n",
    "    print(\"--- %s seconds ---\" % (time.time() - start_time))"
   ]
  },
  {
   "cell_type": "code",
   "execution_count": null,
   "id": "068f2ddd",
   "metadata": {},
   "outputs": [],
   "source": [
    "\n"
   ]
  },
  {
   "cell_type": "code",
   "execution_count": null,
   "id": "7f51b9e7",
   "metadata": {},
   "outputs": [],
   "source": []
  },
  {
   "cell_type": "code",
   "execution_count": null,
   "id": "b8907083",
   "metadata": {},
   "outputs": [],
   "source": []
  }
 ],
 "metadata": {
  "kernelspec": {
   "display_name": "Python 3 (ipykernel)",
   "language": "python",
   "name": "python3"
  },
  "language_info": {
   "codemirror_mode": {
    "name": "ipython",
    "version": 3
   },
   "file_extension": ".py",
   "mimetype": "text/x-python",
   "name": "python",
   "nbconvert_exporter": "python",
   "pygments_lexer": "ipython3",
   "version": "3.9.7"
  }
 },
 "nbformat": 4,
 "nbformat_minor": 5
}
