{
 "cells": [
  {
   "cell_type": "markdown",
   "id": "8e2a1eb5",
   "metadata": {},
   "source": [
    "# Gradient Boost Regressor Algorithm  - ensemble technique"
   ]
  },
  {
   "cell_type": "code",
   "execution_count": 5,
   "id": "cb9f1552",
   "metadata": {},
   "outputs": [],
   "source": [
    "import numpy as np\n",
    "import pandas as pd\n",
    "from sklearn.ensemble import GradientBoostingRegressor\n",
    "from sklearn.model_selection import train_test_split\n",
    "from sklearn.metrics import mean_squared_error\n",
    "from sklearn.metrics import mean_absolute_error\n",
    "from sklearn.metrics import r2_score\n",
    "\n",
    "import warnings\n",
    "warnings.filterwarnings('ignore')"
   ]
  },
  {
   "cell_type": "code",
   "execution_count": 6,
   "id": "383c972e",
   "metadata": {},
   "outputs": [],
   "source": [
    "# load _dataset  # boston data\n",
    "\n",
    "from sklearn.datasets import load_boston"
   ]
  },
  {
   "cell_type": "code",
   "execution_count": 7,
   "id": "1a901e36",
   "metadata": {},
   "outputs": [],
   "source": [
    "boston = load_boston()"
   ]
  },
  {
   "cell_type": "code",
   "execution_count": 8,
   "id": "3a0b54dd",
   "metadata": {},
   "outputs": [],
   "source": [
    "X = pd.DataFrame(boston.data, columns=boston.feature_names)\n",
    "y = pd.Series(boston.target)"
   ]
  },
  {
   "cell_type": "code",
   "execution_count": 9,
   "id": "906ff2fa",
   "metadata": {},
   "outputs": [],
   "source": [
    "# train test split\n",
    "\n",
    "X_train, X_test, y_train, y_test = train_test_split(X,y, test_size=0.2)"
   ]
  },
  {
   "cell_type": "code",
   "execution_count": 10,
   "id": "29b1ef50",
   "metadata": {},
   "outputs": [],
   "source": [
    "#model training and evalution"
   ]
  },
  {
   "cell_type": "code",
   "execution_count": 42,
   "id": "a26a30c1",
   "metadata": {},
   "outputs": [],
   "source": [
    "gradi_regre = GradientBoostingRegressor(max_depth=2,n_estimators=3,learning_rate=1.0)"
   ]
  },
  {
   "cell_type": "code",
   "execution_count": 43,
   "id": "4ae64785",
   "metadata": {},
   "outputs": [],
   "source": [
    "#train  model"
   ]
  },
  {
   "cell_type": "code",
   "execution_count": 44,
   "id": "8fd5a3fe",
   "metadata": {},
   "outputs": [],
   "source": [
    "model = gradi_regre.fit(X_train,y_train)"
   ]
  },
  {
   "cell_type": "code",
   "execution_count": 45,
   "id": "62b03a9d",
   "metadata": {},
   "outputs": [],
   "source": [
    "# predict"
   ]
  },
  {
   "cell_type": "code",
   "execution_count": 46,
   "id": "9120620e",
   "metadata": {},
   "outputs": [],
   "source": [
    "y_pred = model.predict(X_test)"
   ]
  },
  {
   "cell_type": "code",
   "execution_count": 47,
   "id": "23e4b1a0",
   "metadata": {},
   "outputs": [
    {
     "data": {
      "text/plain": [
       "0.7471804761227412"
      ]
     },
     "execution_count": 47,
     "metadata": {},
     "output_type": "execute_result"
    }
   ],
   "source": [
    "r2_score(y_pred,y_test)"
   ]
  },
  {
   "cell_type": "code",
   "execution_count": null,
   "id": "f25dd11f",
   "metadata": {},
   "outputs": [],
   "source": []
  },
  {
   "cell_type": "markdown",
   "id": "7e60e801",
   "metadata": {},
   "source": [
    "# Plot feature Importance"
   ]
  },
  {
   "cell_type": "code",
   "execution_count": 20,
   "id": "795e6e65",
   "metadata": {},
   "outputs": [],
   "source": [
    "import matplotlib.pyplot as plt\n",
    "%matplotlib inline"
   ]
  },
  {
   "cell_type": "code",
   "execution_count": 21,
   "id": "8a94efe9",
   "metadata": {},
   "outputs": [],
   "source": [
    "feature_importance = model.feature_importances_"
   ]
  },
  {
   "cell_type": "code",
   "execution_count": 22,
   "id": "1cec697d",
   "metadata": {},
   "outputs": [],
   "source": [
    "feature_importance = 100.0*(feature_importance / feature_importance.max())"
   ]
  },
  {
   "cell_type": "code",
   "execution_count": 25,
   "id": "e8cc8f5c",
   "metadata": {},
   "outputs": [],
   "source": [
    "sorted_index = np.argsort(feature_importance)\n",
    "pos = np.arange(sorted_index.shape[0])+.5"
   ]
  },
  {
   "cell_type": "code",
   "execution_count": 26,
   "id": "b5248b52",
   "metadata": {},
   "outputs": [
    {
     "data": {
      "image/png": "[encoded data removed]",
      "text/plain": [
       "<Figure size 432x288 with 1 Axes>"
      ]
     },
     "metadata": {
      "needs_background": "light"
     },
     "output_type": "display_data"
    }
   ],
   "source": [
    "plt.barh(pos, feature_importance[sorted_index], align='center')\n",
    "plt.yticks(pos,boston.feature_names[sorted_index])\n",
    "plt.xlabel('Relative Importance')\n",
    "plt.title('Variable Importance')\n",
    "plt.show()"
   ]
  },
  {
   "cell_type": "code",
   "execution_count": 27,
   "id": "4c4504db",
   "metadata": {},
   "outputs": [],
   "source": [
    "# we can see 4 importannt feature for our model"
   ]
  },
  {
   "cell_type": "markdown",
   "id": "c880ee9d",
   "metadata": {},
   "source": [
    "# Lets tune hyperparameter"
   ]
  },
  {
   "cell_type": "code",
   "execution_count": 28,
   "id": "a389f3f4",
   "metadata": {},
   "outputs": [],
   "source": [
    "from sklearn.model_selection import GridSearchCV"
   ]
  },
  {
   "cell_type": "code",
   "execution_count": 29,
   "id": "f866b8c4",
   "metadata": {},
   "outputs": [],
   "source": [
    "LR = {'learning_rate':[0.15,0.1,0.10,0.05], 'n_estimators':[100,150,200,250]}"
   ]
  },
  {
   "cell_type": "code",
   "execution_count": 32,
   "id": "614c15fe",
   "metadata": {},
   "outputs": [],
   "source": [
    "tunning = GridSearchCV(estimator = GradientBoostingRegressor() ,param_grid=LR, scoring='r2')"
   ]
  },
  {
   "cell_type": "code",
   "execution_count": 33,
   "id": "0a35ba0d",
   "metadata": {},
   "outputs": [
    {
     "data": {
      "text/plain": [
       "GridSearchCV(estimator=GradientBoostingRegressor(),\n",
       "             param_grid={'learning_rate': [0.15, 0.1, 0.1, 0.05],\n",
       "                         'n_estimators': [100, 150, 200, 250]},\n",
       "             scoring='r2')"
      ]
     },
     "execution_count": 33,
     "metadata": {},
     "output_type": "execute_result"
    }
   ],
   "source": [
    "tunning.fit(X_train, y_train)"
   ]
  },
  {
   "cell_type": "code",
   "execution_count": 34,
   "id": "fa5a8302",
   "metadata": {},
   "outputs": [
    {
     "data": {
      "text/plain": [
       "({'learning_rate': 0.05, 'n_estimators': 200}, 0.8828223401576534)"
      ]
     },
     "execution_count": 34,
     "metadata": {},
     "output_type": "execute_result"
    }
   ],
   "source": [
    "tunning.best_params_, tunning.best_score_"
   ]
  },
  {
   "cell_type": "code",
   "execution_count": 35,
   "id": "67b545b0",
   "metadata": {},
   "outputs": [],
   "source": [
    "## wecan see from above output , that, we acan get  best model at learning rate = 0.05, and n_estimators = 200, .\n",
    "#  i. e. 88.28 % accuracy"
   ]
  },
  {
   "cell_type": "code",
   "execution_count": null,
   "id": "a05e0af4",
   "metadata": {},
   "outputs": [],
   "source": []
  }
 ],
 "metadata": {
  "kernelspec": {
   "display_name": "Python 3 (ipykernel)",
   "language": "python",
   "name": "python3"
  },
  "language_info": {
   "codemirror_mode": {
    "name": "ipython",
    "version": 3
   },
   "file_extension": ".py",
   "mimetype": "text/x-python",
   "name": "python",
   "nbconvert_exporter": "python",
   "pygments_lexer": "ipython3",
   "version": "3.9.7"
  }
 },
 "nbformat": 4,
 "nbformat_minor": 5
}
